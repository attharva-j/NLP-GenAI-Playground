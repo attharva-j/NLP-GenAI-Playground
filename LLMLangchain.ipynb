{
 "cells": [
  {
   "cell_type": "markdown",
   "id": "c6d4b8c7-6b49-47bb-8937-32ae6d972053",
   "metadata": {},
   "source": [
    "#  End-to-end LLM Application using Langchain"
   ]
  },
  {
   "cell_type": "markdown",
   "id": "13a3bd31-ad03-4974-94d4-d172f81c44d8",
   "metadata": {},
   "source": [
    "- References\n",
    "  - Theoritical concepts - Prof. [Mochen Yang](https://mochenyang.github.io/) MSBA 6461 - Advanced AI for Business (NLP and Reinforcement Learning)\n",
    "  - Practical reference - Krish Naik's [End to End LLM App using Langchain](https://github.com/krishnaik06/Complete-Langchain-Tutorials/tree/main/LLM%20Generic%20APP)."
   ]
  },
  {
   "attachments": {},
   "cell_type": "markdown",
   "id": "dedf8cbb-097e-46fd-9a60-79b792d5ab72",
   "metadata": {
    "editable": true,
    "slideshow": {
     "slide_type": ""
    },
    "tags": []
   },
   "source": [
    "<img src=\"LLMAppUsingLangchain.png\" style=\"height:400px; width: 750px\" />\n",
    "\n",
    "Generated using Lucidchart."
   ]
  },
  {
   "cell_type": "markdown",
   "id": "0a3bdec7-42bd-4611-9d49-3ea72a411ede",
   "metadata": {},
   "source": [
    "#### Import required libraries"
   ]
  },
  {
   "cell_type": "code",
   "execution_count": 1,
   "id": "8d67554f-663c-45e0-a75d-fb303cbff229",
   "metadata": {},
   "outputs": [],
   "source": [
    "import openai\n",
    "import langchain\n",
    "from pinecone import Pinecone, ServerlessSpec\n",
    "from langchain.document_loaders import PyPDFDirectoryLoader\n",
    "from langchain.text_splitter import RecursiveCharacterTextSplitter\n",
    "from langchain_openai import OpenAIEmbeddings, ChatOpenAI\n",
    "from langchain_pinecone import PineconeVectorStore\n",
    "# from langchain.llms import OpenAI\n",
    "from langchain_community.chat_models import ChatOpenAI\n",
    "import pinecone\n",
    "\n",
    "from langchain.chains.question_answering import load_qa_chain\n",
    "from langchain import OpenAI"
   ]
  },
  {
   "cell_type": "code",
   "execution_count": 2,
   "id": "45d36bbe-6a46-4a86-b89b-89ae62484ec5",
   "metadata": {},
   "outputs": [
    {
     "data": {
      "text/plain": [
       "True"
      ]
     },
     "execution_count": 2,
     "metadata": {},
     "output_type": "execute_result"
    }
   ],
   "source": [
    "from dotenv import load_dotenv\n",
    "load_dotenv()"
   ]
  },
  {
   "cell_type": "code",
   "execution_count": 3,
   "id": "945fd43b-33d8-4f6d-ad24-4f06c5e4465b",
   "metadata": {},
   "outputs": [],
   "source": [
    "import os"
   ]
  },
  {
   "cell_type": "markdown",
   "id": "1ec6fd25-b83b-4cc9-9a24-2b665c90f951",
   "metadata": {},
   "source": [
    "#### Read the (pdf) document"
   ]
  },
  {
   "cell_type": "code",
   "execution_count": 4,
   "id": "cf4890d8-69d1-40e6-8624-2c58597eb645",
   "metadata": {},
   "outputs": [],
   "source": [
    "def read_doc(directory):\n",
    "    file_loader = PyPDFDirectoryLoader(directory)\n",
    "    documents = file_loader.load()\n",
    "    return documents"
   ]
  },
  {
   "cell_type": "code",
   "execution_count": 5,
   "id": "a82f419c-3b29-4b68-81a3-825e88d2fce8",
   "metadata": {},
   "outputs": [],
   "source": [
    "documents = read_doc('C:/Users/Atharva J/Desktop/UMN/FullTimeJobApplications/ResumeFeedbackChanges-Sridhar/')"
   ]
  },
  {
   "cell_type": "code",
   "execution_count": 6,
   "id": "3d3f80c4-0516-403a-b67f-5ecf386d6e4b",
   "metadata": {},
   "outputs": [
    {
     "data": {
      "text/plain": [
       "Document(metadata={'source': 'C:\\\\Users\\\\Atharva J\\\\Desktop\\\\UMN\\\\FullTimeJobApplications\\\\ResumeFeedbackChanges-Sridhar\\\\AtharvaJResume-14-DS-V4.pdf', 'page': 0}, page_content='ATHARVA  JOSHI  \\n(763)-202-0720  ⚫ Email  ⚫ LinkedIn  ⚫ GitHub  ⚫ Medium    \\n  \\nSUMMARY  \\nResults -driven data scientist with 3.5 years in retail, specializing in predictive modeling, machine learning, and strategic \\ncollaboration. Proven success in delivering analytics solutions that fuel business growth and informed decision -making.  \\n \\nEXPERIENCE  \\nCARLSON ANALYTICS LAB                  Minneapolis , MN \\nAnalytics Lead                                    Jul 2023 - May 2024  \\nImpact Analysis for Insiders Loyalty Program at a major Minneapolis mall. ( Python, SQL, PowerBI , JIRA ) \\n● Steered  and coordinated analytics initiatives, working closely with cross -functional  teams to align loyalty program \\ngoals with data -driven strategies.  \\n● Led a team to segment 13,000+ insiders  in different clusters using K -Means clustering, improving customer \\ntargeting by 30%.  \\n● Boosted loyalty program engagement by 23% through tailored promotions  to insider  preferences  using association \\nrule mining  on shopping pattern data . \\nResource Allocation Optimization for a Minnesota school district (Python,  R, Tableau ) \\n● Saved ~$ 453K for a Minnesota school by leveraging experimentation , causal inference and regression techniques to \\noptimize resource allocation for the Early College Program.  \\nALTIMETRIK  INDIA                Bangalore , India            \\nAssociate Data  Scientist                                  Nov 2020 - May 202 3 \\nClient : Uniqlo  - Leading  Japanese sportswear & apparel company  (PyCaret, RNN , ML explainability , NLP ) \\n● Achieved $150K in cost savings by optimizing SKU selection  on seasonal product demand leveraging machine \\nlearning  pipelines.  \\n● Enhanced quarterly profits by 18% through strategi zed selection and placement  of high -demand seasonal products \\nforecasted using  LSTM.  \\n● Optimized ML pipeline by integrating ML explainability, resulting in a 20% reduction in model tuning time and enhanced \\nprediction interpretability . \\nClient: Lululemon – Leading  athleisure  designer & manufacturer.  (Time series Forecasting, MySQL , Tableau , AWS services ) \\n● Implemented demand forecasting engine using Python statistical models, decreasing inventory re-stock delay  by \\n~70% (7 days  to 2 days).  \\n● Leverag ed BERT  model for employee review classification, resulting in $70.5K savings in policy management . \\n● Generated $300K in quarterly revenue by increa sing visibility of real-time product performance  by 250%  through the \\nimplementation of Tableau  dashboards.  \\nClient : James Hall Co. - Leading wholesale retailer  of SPAR in North England  (SQL, ETL Data Pipelines , Automation )                      \\n● Implemented failure resolution mechanism using regression analysis, reducing production errors  by 35% and saving  \\nthe company $24K annually on production  support costs . \\n● Increased efficiency by 70% through the implementation of Python scripts to automate large retail report \\ntransfers  via SFTP . \\nClient: CleverTap – US customer lifecycle management & marketing services company  (BigQuery , CI/CD , Spark ) \\n● Increased business revenue by $150K annually by developing decision tree models to predict customer churn for \\nsubscription plans . \\n● Achieved $400K in annual savings by automating customer journey analysis  using BigQuery and ETL pipelines, \\nprocessing  14M rows monthly.  \\nEDUCATION  \\nCARLSON SCHOOL OF MANAGEMENT, UNIVERSITY OF MINNESOTA  \\nMaster of Science  in Business Analytics                                  May 2024  \\nUNIVERSITY OF PUNE , INDIA  \\nBachelor  of Engineering  – Computer  Engineering                                                                                                      May 2020  \\n \\nSKILLS  \\n● Certifications : AWS  Certified  Machine  Learning  Specialty  (Mar 2022 – March 2025).  \\n● Languages : Python ( Pandas, NumPy, scikit -learn, TensorFlow, Keras, transformers),  SQL, R (dplyr, matchIt).  \\n● Data Engineering & Machine Learning : MySQL, AWS Redshift, GCP, ETL pipelines, Deep Learning , Jupyter .  \\n● Big Data, Data Visualization & Misc. technologies: PySpark, Tableau,  PowerBI , JIRA, Splunk, Airflow, MS Office.  \\n● Techniques : Time Series  Forecasting , Natural Language Processing, Data Visualization, Predictive \\nModeling,  Exploratory Data Analysis, Statistical Analysis , A/B testing , Data Transformation, Cloud Services . ')"
      ]
     },
     "execution_count": 6,
     "metadata": {},
     "output_type": "execute_result"
    }
   ],
   "source": [
    "latest_resume = documents[-1]\n",
    "latest_resume"
   ]
  },
  {
   "cell_type": "code",
   "execution_count": 7,
   "id": "0ebb98f0-6be5-4031-8b88-d6398623c353",
   "metadata": {},
   "outputs": [
    {
     "data": {
      "text/plain": [
       "'ATHARVA  JOSHI  \\n(763)-202-0720  ⚫ Email  ⚫ LinkedIn  ⚫ GitHub  ⚫ Medium    \\n  \\nSUMMARY  \\nResults -driven data scientist with 3.5 years in retail, specializing in predictive modeling, machine learning, and strategic \\ncollaboration. Proven success in delivering analytics solutions that fuel business growth and informed decision -making.  \\n \\nEXPERIENCE  \\nCARLSON ANALYTICS LAB                  Minneapolis , MN \\nAnalytics Lead                                    Jul 2023 - May 2024  \\nImpact Analysis for Insiders Loyalty Program at a major Minneapolis mall. ( Python, SQL, PowerBI , JIRA ) \\n● Steered  and coordinated analytics initiatives, working closely with cross -functional  teams to align loyalty program \\ngoals with data -driven strategies.  \\n● Led a team to segment 13,000+ insiders  in different clusters using K -Means clustering, improving customer \\ntargeting by 30%.  \\n● Boosted loyalty program engagement by 23% through tailored promotions  to insider  preferences  using association \\nrule mining  on shopping pattern data . \\nResource Allocation Optimization for a Minnesota school district (Python,  R, Tableau ) \\n● Saved ~$ 453K for a Minnesota school by leveraging experimentation , causal inference and regression techniques to \\noptimize resource allocation for the Early College Program.  \\nALTIMETRIK  INDIA                Bangalore , India            \\nAssociate Data  Scientist                                  Nov 2020 - May 202 3 \\nClient : Uniqlo  - Leading  Japanese sportswear & apparel company  (PyCaret, RNN , ML explainability , NLP ) \\n● Achieved $150K in cost savings by optimizing SKU selection  on seasonal product demand leveraging machine \\nlearning  pipelines.  \\n● Enhanced quarterly profits by 18% through strategi zed selection and placement  of high -demand seasonal products \\nforecasted using  LSTM.  \\n● Optimized ML pipeline by integrating ML explainability, resulting in a 20% reduction in model tuning time and enhanced \\nprediction interpretability . \\nClient: Lululemon – Leading  athleisure  designer & manufacturer.  (Time series Forecasting, MySQL , Tableau , AWS services ) \\n● Implemented demand forecasting engine using Python statistical models, decreasing inventory re-stock delay  by \\n~70% (7 days  to 2 days).  \\n● Leverag ed BERT  model for employee review classification, resulting in $70.5K savings in policy management . \\n● Generated $300K in quarterly revenue by increa sing visibility of real-time product performance  by 250%  through the \\nimplementation of Tableau  dashboards.  \\nClient : James Hall Co. - Leading wholesale retailer  of SPAR in North England  (SQL, ETL Data Pipelines , Automation )                      \\n● Implemented failure resolution mechanism using regression analysis, reducing production errors  by 35% and saving  \\nthe company $24K annually on production  support costs . \\n● Increased efficiency by 70% through the implementation of Python scripts to automate large retail report \\ntransfers  via SFTP . \\nClient: CleverTap – US customer lifecycle management & marketing services company  (BigQuery , CI/CD , Spark ) \\n● Increased business revenue by $150K annually by developing decision tree models to predict customer churn for \\nsubscription plans . \\n● Achieved $400K in annual savings by automating customer journey analysis  using BigQuery and ETL pipelines, \\nprocessing  14M rows monthly.  \\nEDUCATION  \\nCARLSON SCHOOL OF MANAGEMENT, UNIVERSITY OF MINNESOTA  \\nMaster of Science  in Business Analytics                                  May 2024  \\nUNIVERSITY OF PUNE , INDIA  \\nBachelor  of Engineering  – Computer  Engineering                                                                                                      May 2020  \\n \\nSKILLS  \\n● Certifications : AWS  Certified  Machine  Learning  Specialty  (Mar 2022 – March 2025).  \\n● Languages : Python ( Pandas, NumPy, scikit -learn, TensorFlow, Keras, transformers),  SQL, R (dplyr, matchIt).  \\n● Data Engineering & Machine Learning : MySQL, AWS Redshift, GCP, ETL pipelines, Deep Learning , Jupyter .  \\n● Big Data, Data Visualization & Misc. technologies: PySpark, Tableau,  PowerBI , JIRA, Splunk, Airflow, MS Office.  \\n● Techniques : Time Series  Forecasting , Natural Language Processing, Data Visualization, Predictive \\nModeling,  Exploratory Data Analysis, Statistical Analysis , A/B testing , Data Transformation, Cloud Services . '"
      ]
     },
     "execution_count": 7,
     "metadata": {},
     "output_type": "execute_result"
    }
   ],
   "source": [
    "latest_resume.page_content"
   ]
  },
  {
   "cell_type": "code",
   "execution_count": 8,
   "id": "382e6e38-622f-45d7-a799-19666ceff9ba",
   "metadata": {},
   "outputs": [
    {
     "data": {
      "text/plain": [
       "9"
      ]
     },
     "execution_count": 8,
     "metadata": {},
     "output_type": "execute_result"
    }
   ],
   "source": [
    "len(documents)"
   ]
  },
  {
   "cell_type": "markdown",
   "id": "331692d2-be50-400a-9434-e5e8b15f1020",
   "metadata": {},
   "source": [
    "#### Convert the document into chunks"
   ]
  },
  {
   "cell_type": "code",
   "execution_count": 9,
   "id": "48a66505-a3de-4638-96f0-7d65a0c2db6c",
   "metadata": {},
   "outputs": [],
   "source": [
    "# convert into chunks dur to the limitation of maximum token size for the model\n",
    "def chunk_data(docs, chunk_size=800, chunk_overlap=50):\n",
    "    text_splitter = RecursiveCharacterTextSplitter(chunk_size=chunk_size, chunk_overlap=chunk_overlap)\n",
    "    doc = text_splitter.split_documents(docs)\n",
    "    return doc"
   ]
  },
  {
   "cell_type": "code",
   "execution_count": 10,
   "id": "70df2ab4-ced7-4bc7-b1b4-1b1bc3742eb2",
   "metadata": {},
   "outputs": [
    {
     "data": {
      "text/plain": [
       "[Document(metadata={'source': 'C:\\\\Users\\\\Atharva J\\\\Desktop\\\\UMN\\\\FullTimeJobApplications\\\\ResumeFeedbackChanges-Sridhar\\\\AtharvaJoshiDS-V1-CA.pdf', 'page': 0}, page_content='ATHARVA JOSHI\\nSan Francisco, CA|joshi461@umn.edu |(763)-202-0720|https://linkedin.com/in/attharvaj3147\\nWork Experience\\nCARLSON ANALYTICS LAB\\nAnalytics LeadMinneapolis, MN\\nJan 2024 - May 2024\\n•Directed comprehensive analytics initiatives for a flagship shopping center in Minneapolis, collaborating with diverse teams \\nto align loyalty program objectives with data-driven strategies.\\n•Led a team to segment 13,000+ subscribers using K-Means clustering, improving customer targeting by 30%.\\n•Boosted loyalty program engagement by 23% through targeted promotions based on store co-visitation patterns identified \\nusing association rule mining.\\nCARLSON ANALYTICS LAB\\nData Science ConsultantMinneapolis, MN\\nJul 2023 - Dec 2023'),\n",
       " Document(metadata={'source': 'C:\\\\Users\\\\Atharva J\\\\Desktop\\\\UMN\\\\FullTimeJobApplications\\\\ResumeFeedbackChanges-Sridhar\\\\AtharvaJoshiDS-V1-CA.pdf', 'page': 0}, page_content='Jul 2023 - Dec 2023\\n•Implemented K-Means clustering techniques resulting in a 35% boost in program retention through targeted resource \\nallocation strategies for a financial literacy initiative.\\n•Developed a predictive model with 95% accuracy to evaluate the impact of the Early College Program on post-secondary \\nsuccess, leading to optimized resource allocation strategies.\\nALTIMETRIK INDIA\\nAssociate Data ScientistBangalore, India\\nNov 2020 - May 2023\\n•Achieved $150K in cost savings by implementing a machine learning pipeline to optimize SKU selection based on seasonal \\nproduct demand using PyCaret.\\n•Optimized ML pipeline by integrating Yellowbrick and SHAP values, resulting in a 20% reduction in model tuning time and \\nenhanced prediction interpretability.'),\n",
       " Document(metadata={'source': 'C:\\\\Users\\\\Atharva J\\\\Desktop\\\\UMN\\\\FullTimeJobApplications\\\\ResumeFeedbackChanges-Sridhar\\\\AtharvaJoshiDS-V1-CA.pdf', 'page': 0}, page_content='enhanced prediction interpretability.\\n•Implemented a deep learning model for employee review classification, resulting in $70.5K savings in policy management \\ncosts.\\n•Implemented a demand forecasting engine using ARIMA & FBProphet in Python, decreasing lead-time by ~70% (from 1 \\nweek to 2 days).\\n•Reduced alert response time by 83% to 1.8 minutes, leveraging AWS Forecast, SES, S3, Lambda, and QuickSight to \\nswiftly address product demand fluctuations.\\n•Generated $300K in quarterly revenue through the implementation of interactive Tableau dashboards, leading to a 250% \\nincrease in visibility of real-time product performance metrics based on machine learning model predictions.'),\n",
       " Document(metadata={'source': 'C:\\\\Users\\\\Atharva J\\\\Desktop\\\\UMN\\\\FullTimeJobApplications\\\\ResumeFeedbackChanges-Sridhar\\\\AtharvaJoshiDS-V1-CA.pdf', 'page': 0}, page_content='•Increased efficiency by 70% through the implementation of Python scripts to automate large retail report transfers via \\nSFTP.\\n•Implemented proactive failure resolution mechanism using regression analysis, reducing production errors by 35% and \\nsaving the company $24K annually on on-call support costs.\\n•Enhanced quarterly profits by 18% through strategic selection and placement of high-demand seasonal products, \\nleveraging LSTM models with attention mechanism in TensorFlow to forecast SPAR product sales with 77% accuracy.\\n•Increased business revenue by $150K annually through the development of predictive decision tree models to forecast \\ncustomer churn for subscription plans.'),\n",
       " Document(metadata={'source': 'C:\\\\Users\\\\Atharva J\\\\Desktop\\\\UMN\\\\FullTimeJobApplications\\\\ResumeFeedbackChanges-Sridhar\\\\AtharvaJoshiDS-V1-CA.pdf', 'page': 0}, page_content='customer churn for subscription plans.\\n•Achieved $400K in annual savings by automating customer journey analysis using BigQuery and ETL pipelines, processing \\n14 million rows monthly.\\nEducation\\nUniversity of Minnesota \\ue088 Twin Cities\\nMaster of Science in Business AnalyticsGraduation date: May  2024\\nUniversity of Pune, India\\nBachelor of Engineering - Computer EngineeringGraduation date: May 2020\\nSkills\\nCertifications: AWS Certified Machine Learning Specialty (Mar2022 – March 2025)\\nLanguages: Python (e.g. Pandas, NumPy, scikit-learn, TensorFlow, Keras, transformers), SQL, R (e.g. dplyr, matchIt), A/B testing.\\nData Engineering & Machine Learning : MySQL, AWS Redshift, ETL pipelines, deep learning, Jupyter Notebooks.'),\n",
       " Document(metadata={'source': 'C:\\\\Users\\\\Atharva J\\\\Desktop\\\\UMN\\\\FullTimeJobApplications\\\\ResumeFeedbackChanges-Sridhar\\\\AtharvaJoshiDS-V1-CA.pdf', 'page': 0}, page_content='Big Data, Data Visualization & Misc. technologies : Hadoop, Hive, Spark, Tableau, PowerBI, JIRA, Splunk, Airflow, MS Office.\\nTechniques: Time Series Forecasting, Natural Language Processing, Data Visualization, Predictive Modeling, Exploratory Data \\nAnalysis, Statistical Analysis using R, Data Transformation, Cloud Pipeline Deployment.'),\n",
       " Document(metadata={'source': 'C:\\\\Users\\\\Atharva J\\\\Desktop\\\\UMN\\\\FullTimeJobApplications\\\\ResumeFeedbackChanges-Sridhar\\\\AtharvaJoshiDS-V1-MN.pdf', 'page': 0}, page_content='ATHARVA JOSHI\\nMinneapolis, MN|joshi461@umn.edu |(763)-202-0720|https://linkedin.com/in/attharvaj3147\\nWork Experience\\nCARLSON ANALYTICS LAB\\nAnalytics LeadMinneapolis, MN\\nJan 2024 - May 2024\\n•Directed comprehensive analytics initiatives for a flagship shopping center in Minneapolis, collaborating with diverse teams \\nto align loyalty program objectives with data-driven strategies.\\n•Led a team to segment 13,000+ subscribers using K-Means clustering, improving customer targeting by 30%.\\n•Boosted loyalty program engagement by 23% through targeted promotions based on store co-visitation patterns identified \\nusing association rule mining.\\nCARLSON ANALYTICS LAB\\nData Science ConsultantMinneapolis, MN\\nJul 2023 - Dec 2023'),\n",
       " Document(metadata={'source': 'C:\\\\Users\\\\Atharva J\\\\Desktop\\\\UMN\\\\FullTimeJobApplications\\\\ResumeFeedbackChanges-Sridhar\\\\AtharvaJoshiDS-V1-MN.pdf', 'page': 0}, page_content='Jul 2023 - Dec 2023\\n•Implemented K-Means clustering techniques resulting in a 35% boost in program retention through targeted resource \\nallocation strategies for a financial literacy initiative.\\n•Developed a predictive model with 95% accuracy to evaluate the impact of the Early College Program on post-secondary \\nsuccess, leading to optimized resource allocation strategies.\\nALTIMETRIK INDIA\\nAssociate Data ScientistBangalore, India\\nNov 2020 - May 2023\\n•Achieved $150K in cost savings by implementing a machine learning pipeline to optimize SKU selection based on seasonal \\nproduct demand using PyCaret.\\n•Optimized ML pipeline by integrating Yellowbrick and SHAP values, resulting in a 20% reduction in model tuning time and \\nenhanced prediction interpretability.'),\n",
       " Document(metadata={'source': 'C:\\\\Users\\\\Atharva J\\\\Desktop\\\\UMN\\\\FullTimeJobApplications\\\\ResumeFeedbackChanges-Sridhar\\\\AtharvaJoshiDS-V1-MN.pdf', 'page': 0}, page_content='enhanced prediction interpretability.\\n•Implemented a deep learning model for employee review classification, resulting in $70.5K savings in policy management \\ncosts.\\n•Implemented a demand forecasting engine using ARIMA & FBProphet in Python, decreasing lead-time by ~70% (from 1 \\nweek to 2 days).\\n•Reduced alert response time by 83% to 1.8 minutes, leveraging AWS Forecast, SES, S3, Lambda, and QuickSight to \\nswiftly address product demand fluctuations.\\n•Generated $300K in quarterly revenue through the implementation of interactive Tableau dashboards, leading to a 250% \\nincrease in visibility of real-time product performance metrics based on machine learning model predictions.'),\n",
       " Document(metadata={'source': 'C:\\\\Users\\\\Atharva J\\\\Desktop\\\\UMN\\\\FullTimeJobApplications\\\\ResumeFeedbackChanges-Sridhar\\\\AtharvaJoshiDS-V1-MN.pdf', 'page': 0}, page_content='•Increased efficiency by 70% through the implementation of Python scripts to automate large retail report transfers via \\nSFTP.\\n•Implemented proactive failure resolution mechanism using regression analysis, reducing production errors by 35% and \\nsaving the company $24K annually on on-call support costs.\\n•Enhanced quarterly profits by 18% through strategic selection and placement of high-demand seasonal products, \\nleveraging LSTM models with attention mechanism in TensorFlow to forecast SPAR product sales with 77% accuracy.\\n•Increased business revenue by $150K annually through the development of predictive decision tree models to forecast \\ncustomer churn for subscription plans.'),\n",
       " Document(metadata={'source': 'C:\\\\Users\\\\Atharva J\\\\Desktop\\\\UMN\\\\FullTimeJobApplications\\\\ResumeFeedbackChanges-Sridhar\\\\AtharvaJoshiDS-V1-MN.pdf', 'page': 0}, page_content='customer churn for subscription plans.\\n•Achieved $400K in annual savings by automating customer journey analysis using BigQuery and ETL pipelines, processing \\n14 million rows monthly.\\nEducation\\nUniversity of Minnesota \\ue088 Twin Cities\\nMaster of Science in Business AnalyticsGraduation date: May  2024\\nUniversity of Pune, India\\nBachelor of Engineering - Computer EngineeringGraduation date: May 2020\\nSkills\\nCertifications: AWS Certified Machine Learning Specialty (Mar2022 – March 2025)\\nLanguages: Python (e.g. Pandas, NumPy, scikit-learn, TensorFlow, Keras, transformers), SQL, R (e.g. dplyr, matchIt), A/B testing.\\nData Engineering & Machine Learning : MySQL, AWS Redshift, ETL pipelines, deep learning, Jupyter Notebooks.'),\n",
       " Document(metadata={'source': 'C:\\\\Users\\\\Atharva J\\\\Desktop\\\\UMN\\\\FullTimeJobApplications\\\\ResumeFeedbackChanges-Sridhar\\\\AtharvaJoshiDS-V1-MN.pdf', 'page': 0}, page_content='Big Data, Data Visualization & Misc. technologies : Hadoop, Hive, Spark, Tableau, PowerBI, JIRA, Splunk, Airflow, MS Office.\\nTechniques: Time Series Forecasting, Natural Language Processing, Data Visualization, Predictive Modeling, Exploratory Data \\nAnalysis, Statistical Analysis using R, Data Transformation, Cloud Pipeline Deployment.'),\n",
       " Document(metadata={'source': 'C:\\\\Users\\\\Atharva J\\\\Desktop\\\\UMN\\\\FullTimeJobApplications\\\\ResumeFeedbackChanges-Sridhar\\\\AtharvaJoshiDS-V1-NY.pdf', 'page': 0}, page_content='ATHARVA JOSHI\\nNew York, NY|joshi461@umn.edu |(763)-202-0720|https://linkedin.com/in/attharvaj3147\\nWork Experience\\nCARLSON ANALYTICS LAB\\nAnalytics LeadMinneapolis, MN\\nJan 2024 - May 2024\\n•Directed comprehensive analytics initiatives for a flagship shopping center in Minneapolis, collaborating with diverse teams \\nto align loyalty program objectives with data-driven strategies.\\n•Led a team to segment 13,000+ subscribers into different clusters using K-Means clustering, improving customer targeting \\nby 30%.\\n•Boosted loyalty program engagement by 23% through targeted promotions based on store co-visitation patterns identified \\nusing association rule mining.\\nCARLSON ANALYTICS LAB\\nData Science ConsultantMinneapolis, MN\\nJul 2023 - Dec 2023'),\n",
       " Document(metadata={'source': 'C:\\\\Users\\\\Atharva J\\\\Desktop\\\\UMN\\\\FullTimeJobApplications\\\\ResumeFeedbackChanges-Sridhar\\\\AtharvaJoshiDS-V1-NY.pdf', 'page': 0}, page_content='Jul 2023 - Dec 2023\\n•Implemented K-Means clustering techniques resulting in a 35% boost in program retention through targeted resource \\nallocation strategies for a financial literacy initiative.\\n•Developed a predictive model with 95% accuracy to evaluate the impact of the Early College Program on post-secondary \\nsuccess, leading to optimized resource allocation strategies.\\nALTIMETRIK INDIA\\nAssociate Data ScientistBangalore, India\\nNov 2020 - May 2023\\n•Achieved $150K in cost savings by implementing a machine learning pipeline to optimize SKU selection based on seasonal \\nproduct demand using PyCaret.\\n•Optimized ML pipeline by integrating Yellowbrick and SHAP values, resulting in a 20% reduction in model tuning time and \\nenhanced prediction interpretability.'),\n",
       " Document(metadata={'source': 'C:\\\\Users\\\\Atharva J\\\\Desktop\\\\UMN\\\\FullTimeJobApplications\\\\ResumeFeedbackChanges-Sridhar\\\\AtharvaJoshiDS-V1-NY.pdf', 'page': 0}, page_content='enhanced prediction interpretability.\\n•Implemented a deep learning model for employee review classification, resulting in $70.5K savings in policy management \\ncosts.\\n•Implemented a demand forecasting engine using ARIMA & FBProphet in Python, decreasing lead-time by ~70% (from 1 \\nweek to 2 days).\\n•Reduced alert response time by 83% to 1.8 minutes, leveraging AWS Forecast, SES, S3, Lambda, and QuickSight to \\nswiftly address product demand fluctuations.\\n•Generated $300K in quarterly revenue through the implementation of interactive Tableau dashboards, leading to a 250% \\nincrease in visibility of real-time product performance metrics based on machine learning model predictions.'),\n",
       " Document(metadata={'source': 'C:\\\\Users\\\\Atharva J\\\\Desktop\\\\UMN\\\\FullTimeJobApplications\\\\ResumeFeedbackChanges-Sridhar\\\\AtharvaJoshiDS-V1-NY.pdf', 'page': 0}, page_content='•Increased efficiency by 70% through the implementation of Python scripts to automate large retail report transfers via \\nSFTP.\\n•Implemented proactive failure resolution mechanism using regression analysis, reducing production errors by 35% and \\nsaving the company $24K annually on on-call support costs.\\n•Enhanced quarterly profits by 18% through strategic selection and placement of high-demand seasonal products, \\nleveraging LSTM models with attention mechanism in TensorFlow to forecast SPAR product sales with 77% accuracy.\\n•Increased business revenue by $150K annually through the development of predictive decision tree models to forecast \\ncustomer churn for subscription plans.'),\n",
       " Document(metadata={'source': 'C:\\\\Users\\\\Atharva J\\\\Desktop\\\\UMN\\\\FullTimeJobApplications\\\\ResumeFeedbackChanges-Sridhar\\\\AtharvaJoshiDS-V1-NY.pdf', 'page': 0}, page_content='customer churn for subscription plans.\\n•Achieved $400K in annual savings by automating customer journey analysis using BigQuery and ETL pipelines, processing \\n14 million rows monthly.\\nEducation\\nUniversity of Minnesota \\ue088 Twin Cities\\nMaster of Science in Business AnalyticsGraduation date: May  2024\\nUniversity of Pune, India\\nBachelor of Engineering - Computer EngineeringGraduation date: May 2020\\nSkills\\nCertifications: AWS Certified Machine Learning Specialty (Mar2022 – March 2025)\\nLanguages: Python (e.g. Pandas, NumPy, scikit-learn, TensorFlow, Keras, transformers), SQL, R (e.g. dplyr, matchIt), A/B testing.\\nData Engineering & Machine Learning : MySQL, AWS Redshift, ETL pipelines, deep learning, Jupyter Notebooks.'),\n",
       " Document(metadata={'source': 'C:\\\\Users\\\\Atharva J\\\\Desktop\\\\UMN\\\\FullTimeJobApplications\\\\ResumeFeedbackChanges-Sridhar\\\\AtharvaJoshiDS-V1-NY.pdf', 'page': 0}, page_content='Big Data, Data Visualization & Misc. technologies : Hadoop, Hive, Spark, Tableau, PowerBI, JIRA, Splunk, Airflow, MS Office.\\nTechniques: Time Series Forecasting, Natural Language Processing, Data Visualization, Predictive Modeling, Exploratory Data \\nAnalysis, Statistical Analysis using R, Data Transformation, Cloud Pipeline Deployment.'),\n",
       " Document(metadata={'source': 'C:\\\\Users\\\\Atharva J\\\\Desktop\\\\UMN\\\\FullTimeJobApplications\\\\ResumeFeedbackChanges-Sridhar\\\\AtharvaJResume-14-DA - V1.pdf', 'page': 0}, page_content='ATHARVA  JOSHI  \\n (763) -202-0720  ⚫ joshi461@umn.edu  ⚫ https://www.linkedin.com/in/attharvaj3147   \\n  \\nSUMMARY  \\nDynamic data analyst  with 3.5 years of experience in data transformation, business intelligence & visualization tools, cross -\\nfunctional collaboration, and data -driven decision -making in retail industry, achieving significant business impact through \\ninnovative analytics solutions.  \\nEXPERIENCE  \\nCARLSON ANALYTICS LAB, Minneapolis, MN  \\nAnalytics Lead                                  Jan 2024 - May 2024  \\nImpact Analysis for Insiders Loyalty Program of a leading entertainment and shopping mall in Minneapolis  \\n● Directed comprehensive analytics initiatives, collaborating with diverse teams to align loyalty program objectives with \\ndata-driven strategies.'),\n",
       " Document(metadata={'source': 'C:\\\\Users\\\\Atharva J\\\\Desktop\\\\UMN\\\\FullTimeJobApplications\\\\ResumeFeedbackChanges-Sridhar\\\\AtharvaJResume-14-DA - V1.pdf', 'page': 0}, page_content='data-driven strategies.  \\n● Utilized advanced Excel functions (Pivot Tables & VLOOKUP) to clean , structure,  & analyze primary membership \\ndata of over 13,000 members.  \\n● Led a team to segment 13,000+ insiders in different clusters using K -Means clustering, improving customer targeting \\nby 30%.  \\n● Boosted loyalty program engagement by 23% through targeted promotions relevant to segments through analysis \\nof store co -visitation patterns identified using association rule mining.  \\nData Analytics Consultant                                    Jul 2023 - Dec 2023  \\n● Implemented K -Means clustering techniques resulting in a 35% boost in program retention through targeted resource \\nallocation strategies for a financial literacy initiative.'),\n",
       " Document(metadata={'source': 'C:\\\\Users\\\\Atharva J\\\\Desktop\\\\UMN\\\\FullTimeJobApplications\\\\ResumeFeedbackChanges-Sridhar\\\\AtharvaJResume-14-DA - V1.pdf', 'page': 0}, page_content='● Saved $4M of a Minnesota school by optimizing resource allocation strategies using a predictive model to evaluate the \\nimpact of the Early College Program on post -secondary success of students.  \\nALTIMETRIK INDIA , Bangalore, INDIA                 \\nAssociate Engineer – Data Analytics        Nov 2020 – May 2023  \\nClients – James Hall Co. (Leading retailer) & CleverTap  \\n● Reduced monthly compute time usage worth $2K by automating large retail report transfers u sing Python & SFTP . \\n● Relieved client from an annual cost of $24K of on -call support  by implement ing a failure resolution mechanism within  \\nusing Python and bash scripts, cutting down  occurrences of production errors by 35% .'),\n",
       " Document(metadata={'source': 'C:\\\\Users\\\\Atharva J\\\\Desktop\\\\UMN\\\\FullTimeJobApplications\\\\ResumeFeedbackChanges-Sridhar\\\\AtharvaJResume-14-DA - V1.pdf', 'page': 0}, page_content='● Drove an annual business revenue of $100K  by crafting data transformation scripts  for 500GB of monthly complex raw \\ndata by leveraging SQL . \\n● Saving ~200 man -hours weekly by automating manual processes through comprehensive data and  ETL pipelines using \\nPython and GCP BigQuery including data validation processes.  \\n● Boosted subscription revenue by 36% by creating PowerBI dashboards to identify top -performing marketing channels \\nacross 15+ platforms . \\nClients - Uniqlo, Lululemon - Leading sportswear designer and manufacturers  \\n● Achieved a 24% profitability increase by visualizing core product KPIs using interactive Tableau dashboard s saving \\n10 hours per week of manual reporting work .'),\n",
       " Document(metadata={'source': 'C:\\\\Users\\\\Atharva J\\\\Desktop\\\\UMN\\\\FullTimeJobApplications\\\\ResumeFeedbackChanges-Sridhar\\\\AtharvaJResume-14-DA - V1.pdf', 'page': 0}, page_content='10 hours per week of manual reporting work . \\n● Reduced inventory re -stock delay from 1 week to 2 days by creating a demand forecasting engine using statistical \\nmodels and visualizing product demand for different products.  \\n● Achieved an average alert notification response time of 1.8 minutes, enabling rapid identification and mitigation of demand \\nfluctuations using AWS SES, S3, Lambda, & Quicksight.  \\n● Cut model tuning time by 20% by creating a Plotly dashboard to visualize and explain key ML model predictions and \\nimproved ML model explainability . \\nEDUCATION  \\nCARLSON SCHOOL OF MANAGEMENT, UNIVERSITY OF MINNESOTA, MN  \\nMaster of Science in Business Analytics                                 May 2024  \\nUNIVERSITY OF PUNE, INDIA'),\n",
       " Document(metadata={'source': 'C:\\\\Users\\\\Atharva J\\\\Desktop\\\\UMN\\\\FullTimeJobApplications\\\\ResumeFeedbackChanges-Sridhar\\\\AtharvaJResume-14-DA - V1.pdf', 'page': 0}, page_content='UNIVERSITY OF PUNE, INDIA  \\nBachelor of Engineering – Computer Engineering                                                                                                       May 2020  \\n \\nTECHNICAL SKILLS  \\n● Languages : Python (e.g. Pandas, NumPy, SqlAlchemy ), SQL, R (e.g. dplyr, forecast, matchIt).  \\n● Data Engineering & Analytics : MySQL, PostgreSQL, AWS Redshift, Azure Data Factory, ETL pipelines, GCP.  \\n● Big Data, Data Visualization & Misc. technologies: Spark, Tableau, PowerBI, JIRA, Splunk, Airflow, MS Office.  \\n● Techniques : Forecasting,  Data Visualization, Predictive Modeling, Exploratory Data Analysis, Statistical Analysis \\nusing R, Data Transformation, Cloud Pipeline Deployment.'),\n",
       " Document(metadata={'source': 'C:\\\\Users\\\\Atharva J\\\\Desktop\\\\UMN\\\\FullTimeJobApplications\\\\ResumeFeedbackChanges-Sridhar\\\\AtharvaJResume-14-DE - V1.pdf', 'page': 0}, page_content='ATHARVA  JOSHI  \\n (763) -202-0720  ⚫ joshi461@umn.edu  ⚫ https://www.linkedin.com/in/attharvaj3147   \\n  \\nSUMMARY  \\nDynamic data engineer  with 3.5 years of experience in data transformation, building data and ETL pipelines , cross -functional \\ncollaboration, and data -driven decision -making in retail industry, achieving significant business impact through innovative \\nanalytics solutions.  \\nEXPERIENCE  \\nCARLSON ANALYTICS LAB, Minneapolis, MN  \\nAnalytics Lead                                  Jan 2024 - May 2024  \\nImpact Analysis for Insiders Loyalty Program of a leading entertainment and shopping mall in Minneapolis  \\n● Directed comprehensive analytics initiatives, collaborating with diverse teams to align loyalty program objectives with \\ndata-driven strategies.'),\n",
       " Document(metadata={'source': 'C:\\\\Users\\\\Atharva J\\\\Desktop\\\\UMN\\\\FullTimeJobApplications\\\\ResumeFeedbackChanges-Sridhar\\\\AtharvaJResume-14-DE - V1.pdf', 'page': 0}, page_content='data-driven strategies.  \\n● Utilized advanced SQL functions  to clean , structure,  & analyze primary membership data of over 13,000 members.  \\n● Led a team to segment 13,000+ insiders in different clusters using K -Means clustering, improving customer targeting \\nby 30%.  \\n● Boosted loyalty program engagement by 23% through targeted promotions relevant to segments through analysis \\nof store co -visitation patterns identified using association rule mining.  \\nData Analytics Consultant                                    Jul 2023 - Dec 2023  \\n● Implemented K -Means clustering techniques resulting in a 35% boost in program retention through targeted resource \\nallocation strategies for a financial literacy initiative.'),\n",
       " Document(metadata={'source': 'C:\\\\Users\\\\Atharva J\\\\Desktop\\\\UMN\\\\FullTimeJobApplications\\\\ResumeFeedbackChanges-Sridhar\\\\AtharvaJResume-14-DE - V1.pdf', 'page': 0}, page_content='● Saved $4M of a Minnesota school by optimizing resource allocation strategies using a predictive model to evaluate the \\nimpact of the Early College Program on post -secondary success of students.  \\nALTIMETRIK INDIA PVT. LTD., Bangalore, INDIA                 \\nAssociate Engineer – Data Analytics        Nov 2020 – May 2023  \\nClients – James Hall Co. (Leading retailer) & CleverTap  \\n● Reduced monthly compute time usage worth $2K by automating large retail report transfers u sing Python & SFTP . \\n● Relieved client from an annual cost of $24K of on -call support  by implement ing a failure resolution mechanism within  \\nusing Python and bash scripts, cutting down  occurrences of production errors by 35% .'),\n",
       " Document(metadata={'source': 'C:\\\\Users\\\\Atharva J\\\\Desktop\\\\UMN\\\\FullTimeJobApplications\\\\ResumeFeedbackChanges-Sridhar\\\\AtharvaJResume-14-DE - V1.pdf', 'page': 0}, page_content='● Drove an annual business revenue of $100K  by crafting data transformation scripts  for 500GB of monthly complex raw \\ndata by leveraging SQL . \\n● Saving ~200 man -hours weekly by automating manual processes through comprehensive data and  ETL pipelines using \\nPython and GCP BigQuery including data validation processes.  \\n● Boosted subscription revenue by 36% by creating PowerBI dashboards to identify top-performing marketing channels \\nacross 15+ platforms . \\nClients - Uniqlo, Lululemon - Leading sportswear designer and manufacturers  \\n● Cut ML model t raining time by 20% by spearhead ing implementation of AWS Data Pipeline to automate movement \\nand transformation of new training data.'),\n",
       " Document(metadata={'source': 'C:\\\\Users\\\\Atharva J\\\\Desktop\\\\UMN\\\\FullTimeJobApplications\\\\ResumeFeedbackChanges-Sridhar\\\\AtharvaJResume-14-DE - V1.pdf', 'page': 0}, page_content='and transformation of new training data. \\n● Reduced inventory re -stock delay from 1 week to 2 days by creating a demand forecasting engine using statistical \\nmodels and visualizing product demand for different products.  \\n● Achieved an average alert notification response time of 1.8 minutes, enabling rapid identification and mitigation of demand \\nfluctuations using AWS SES, S3, Lambda, & Quicksight.  \\nEDUCATION  \\nCARLSON SCHOOL OF MANAGEMENT, UNIVERSITY OF MINNESOTA, MN  \\nMaster of Science in Business Analytics                                 May 2024  \\nUNIVERSITY OF PUNE, INDIA  \\nBachelor of Engineering – Computer Engineering                                                                                                       May 2020  \\n \\nTECHNICAL SKILLS'),\n",
       " Document(metadata={'source': 'C:\\\\Users\\\\Atharva J\\\\Desktop\\\\UMN\\\\FullTimeJobApplications\\\\ResumeFeedbackChanges-Sridhar\\\\AtharvaJResume-14-DE - V1.pdf', 'page': 0}, page_content='TECHNICAL SKILLS  \\n● Languages : Python (e.g. Pandas, NumPy, SqlAlchemy ), SQL, R (e.g. dplyr, forecast, matchIt).  \\n● Data Engineering & Analytics : MySQL, PostgreSQL, AWS Redshift, Azure Data Factory, ETL pipelines, GCP.  \\n● Big Data, Data Visualization & Misc. technologies: Spark, Tableau, PowerBI, JIRA, Splunk, Airflow, MS Office.  \\n● Techniques : Forecasting,  Data Visualization, Predictive Modeling, Exploratory Data Analysis, Statistical Analysis \\nusing R, Data Transformation, Cloud Pipeline Deployment.'),\n",
       " Document(metadata={'source': 'C:\\\\Users\\\\Atharva J\\\\Desktop\\\\UMN\\\\FullTimeJobApplications\\\\ResumeFeedbackChanges-Sridhar\\\\AtharvaJResume-14-DS-V1.pdf', 'page': 0}, page_content='ATHARVA  JOSHI  \\nSan Francisco , CA  ⚫  (763) -202-0720  ⚫  joshi461@umn.edu  ⚫  linkedin.com/in/ attharvaj3147  \\n  \\nEXPERIENCE  \\nCARLSON ANALYTICS LAB , Minneapolis , MN \\nAnalytics Lead – Experiential Learning                                        Jan 2024 - May 2024  \\nImpact Analysis for Insiders Loyalty Program at a major Minneapolis mall. (EDA, Collaboration, PowerBI ) \\n● Led end -to-end analytics for the project, working with cross -function al teams to t ranslate loyalty program business requirements \\ninto data -driven tasks , engineering features for exploratory  analy sis.  \\n● Identif ied customer segments  among 13000+ subscribers by u tilizing K-Means clustering, based on multiple interaction \\nindicator s and features with loyalty program .'),\n",
       " Document(metadata={'source': 'C:\\\\Users\\\\Atharva J\\\\Desktop\\\\UMN\\\\FullTimeJobApplications\\\\ResumeFeedbackChanges-Sridhar\\\\AtharvaJResume-14-DS-V1.pdf', 'page': 0}, page_content='indicator s and features with loyalty program . \\n● Improved engagement rate  with loyalty program  by 23%, by push ing targeted promotions  relevant to different segments  using \\nassociation rule mining to identify store co -visitation patterns . \\nData Science  Consultant                                           Jul 2023 - Dec 2023  \\n● Achieved ~ 35% increased  program retention  by enabling the client to develop effective resource allocation strategies  in a financial \\nliteracy program using K -Means clustering to segment participants  into relevant groups . \\n● Engineered predictive model  with 92% accuracy  to assess impact  of Early College Program  of Minnesota sch ool district on \\npostsecondary success, informing data-driven resource allocation  decisions .'),\n",
       " Document(metadata={'source': 'C:\\\\Users\\\\Atharva J\\\\Desktop\\\\UMN\\\\FullTimeJobApplications\\\\ResumeFeedbackChanges-Sridhar\\\\AtharvaJResume-14-DS-V1.pdf', 'page': 0}, page_content='ALTIMETRIK  INDIA , Bangalore,  INDIA                \\nAssociate Data Scien tist                                                                                                Nov 2022  - May 2023  \\nClient : Uniqlo  - Leading sportswear designer and manufacturer . (PyCaret, RNNs, ML explainability , NLP, Deep Learning ) \\n● Reduced  inventory cost by $100K  by optimizing SKU selection  with ML pipeline using  PyCaret  basis seasonal prod uct demand . \\n● Cut model tuning time  by approximately 20% by integrating an explainability module with the ML pipeline , using Yellowbrick and \\nSHAP values to enhance prediction explanations . \\n● Saved $70.5K in policy management costs  by training, and deploy ing a deep learning model for employee review  classification'),\n",
       " Document(metadata={'source': 'C:\\\\Users\\\\Atharva J\\\\Desktop\\\\UMN\\\\FullTimeJobApplications\\\\ResumeFeedbackChanges-Sridhar\\\\AtharvaJResume-14-DS-V1.pdf', 'page': 0}, page_content='using LSTM , achieving 85.46% accurac y. \\nClient: Lululemon - Leading sportswear designer and manufacturer . (Time series F orecasting, MySQL, Tableau , AWS services ) \\n● Reduce d inventory re -stock delay  from 1 week to 2 days resulting in reduction of ~70%  in lead -time by creating a demand \\nforecasting engine  for different products of client using ARIMA  & FBProphet in Python.   \\n● Achieved a 1.8 -minute alert response time,  rapidly identifying and  mitigating product demand fluctuations  using AWS Forecast, \\nSES, S3, Lambda, and QuickSight.  \\n● Drove $200K in quarterly revenue  by increasing real -time product performance metrics visibility by 200%  using interactive \\nTableau dashboards  for v isualiz ing results of machine learning model predictions .'),\n",
       " Document(metadata={'source': 'C:\\\\Users\\\\Atharva J\\\\Desktop\\\\UMN\\\\FullTimeJobApplications\\\\ResumeFeedbackChanges-Sridhar\\\\AtharvaJResume-14-DS-V1.pdf', 'page': 0}, page_content='Client : James Hall Co. - Leading wholesale retailer  of SPAR in North England  (SQL, LSTM , Automation )                      \\n● Attained  ~70% faster delivery times by design ing Python scripts utilizing SFTP to automate large retail report transfers . \\n● Cut down  occurrences of production errors  by ~35%  by implement ing a proactive failure resolution  mechanism using  regression  \\nwithin error monitoring process , hence  relieving  the company from an annual cost of ~$24 K of on-call support . \\n● Boosted quarterly profits  by 18%, selecti ng and placing high-selling seasonal products  by forecast ing SPAR product sales  \\nwith 77%  accuracy  using LSTM  with attention mechanism  empl oying TensorFlow .'),\n",
       " Document(metadata={'source': 'C:\\\\Users\\\\Atharva J\\\\Desktop\\\\UMN\\\\FullTimeJobApplications\\\\ResumeFeedbackChanges-Sridhar\\\\AtharvaJResume-14-DS-V1.pdf', 'page': 0}, page_content='Client: CleverTap  – A customer lifecycle management and mobile marketing services  company  (GCP B igQuery , scikit-learn ) \\n● Generated $100K  per year in business revenue  by enabling the client to predict customer churn  for subscription plans leveraging \\npredictive decision tree models.  \\n● Saved $200K monthly , by automating analysis  of customer journey - from leads to deals  - with BigQuery and ETL pipelines, handling \\nover 14M rows . \\nEDUCATION  \\nCARLSON  SCHOOL  OF MANAGEMENT , UNIVERSITY OF  MINNESOTA , MN  \\nMaster of Science  in Business Analytics                                    May  2024 \\nUNIVER SITY OF PUNE , PUNE , INDIA'),\n",
       " Document(metadata={'source': 'C:\\\\Users\\\\Atharva J\\\\Desktop\\\\UMN\\\\FullTimeJobApplications\\\\ResumeFeedbackChanges-Sridhar\\\\AtharvaJResume-14-DS-V1.pdf', 'page': 0}, page_content='UNIVER SITY OF PUNE , PUNE , INDIA  \\nBachelor  of Engineering  – Computer  Engineering                                                                                                         May  2020   \\n \\nTECHNICAL SKILLS  \\n● Languages : Python (e.g. Pandas, NumPy, scikit -learn, TensorFlow, Keras, transformers),  SQL, R (e.g. dplyr, matchIt), A/B testing.  \\n● Data Engineering & Machine Learning : MySQL, AWS Redshift, ETL pipelines,  deep learning , Jupyter .  \\n● Big Data, Data Visualization & Misc. technologies: Hadoop, Hive, Spark, Tableau,  PowerBI , JIRA, Splunk, Airflow, MS Office.  \\n● Certifications : AWS  Certified  Machine  Learning  Specialty  (Mar  2022 – March 2025).'),\n",
       " Document(metadata={'source': 'C:\\\\Users\\\\Atharva J\\\\Desktop\\\\UMN\\\\FullTimeJobApplications\\\\ResumeFeedbackChanges-Sridhar\\\\AtharvaJResume-14-DS-V1.pdf', 'page': 0}, page_content='● Techniques : Time Series  Forecasting , Natural Language Processing, Data Visualization, Predictive Modeling,  \\nExploratory Data Analysis, Statistical Analysis using R, Data Transformation, Cloud Pipeline Deployment.  \\nACHIEVEMENTS AND RECOGNITIONS  \\n● Finalist at Analytics for Good Institute (AGI) Hackathon ’24: Among 4 professional  teams  out of 30+ entries from US  to represent \\nCarlson School  - presented  innovative insights  improving  gender equality in employment in Indian IT industry.'),\n",
       " Document(metadata={'source': 'C:\\\\Users\\\\Atharva J\\\\Desktop\\\\UMN\\\\FullTimeJobApplications\\\\ResumeFeedbackChanges-Sridhar\\\\AtharvaJResume-14-DS-V2.pdf', 'page': 0}, page_content='ATHARVA  JOSHI  \\n(763)-202-0720  ⚫  joshi461@umn.edu  ⚫ https://www.linkedin.com/in/attharvaj3147    \\n  \\nSUMMARY  \\nDynamic data scientist with 3.5 years of  experience in predictive modeling, machine learning, cross -functional collaboration, \\nand data-driven decision -making  in retail  industr y, achieving significant business impact through innovative analytics solutions.  \\n \\nEXPERIENCE  \\nCARLSON ANALYTICS LAB                  Minneapolis , MN \\nAnalytics Lead – Experiential Learning                                   Jan 2024 - May 2024  \\nImpact Analysis for Insiders Loyalty Program at a major Minneapolis mall. ( SQL, EDA, Collaboration, PowerBI)  \\n● Directed comprehensive analytics initiatives, collaborating with diverse teams to align loyalty program objectives with'),\n",
       " Document(metadata={'source': 'C:\\\\Users\\\\Atharva J\\\\Desktop\\\\UMN\\\\FullTimeJobApplications\\\\ResumeFeedbackChanges-Sridhar\\\\AtharvaJResume-14-DS-V2.pdf', 'page': 0}, page_content='data-driven strategies.  \\n● Led a team to segment 13,000+ insiders in  different clusters using K -Means clustering, improving customer targeting \\nby 30%.  \\n● Boosted loyalty program engagement by 23% through targeted promotions relevant to segments through analysis \\nof store co -visitation patterns identified using association rule mining.  \\nData Science  Consultant                                     Jul 2023 - Dec 2023  \\n● Implemented K -Means clustering techniques resulting in a 35% boost in program retention through targeted resource \\nallocation strategies for a financial literacy initiative.  \\n● Saved ~$ 4M of a Minnesota school by optimizing resource allocation strategies using a predictive model to evaluate the'),\n",
       " Document(metadata={'source': 'C:\\\\Users\\\\Atharva J\\\\Desktop\\\\UMN\\\\FullTimeJobApplications\\\\ResumeFeedbackChanges-Sridhar\\\\AtharvaJResume-14-DS-V2.pdf', 'page': 0}, page_content='impact of the Early College Program on post -secondary success  of students . \\nALTIMETRIK  INDIA                Bangalore , India            \\nAssociate D ata Scientist                                  Nov 2020 - May 202 3 \\nClient : Uniqlo  - Leading  Japanese sportswear & apparel company  (PyCaret, RNNs, ML explainability , NLP, Deep Learning ) \\n● Achieved $150K in cost savings by optimizing SKU selection  on seasonal product demand leveraging ML pipelines.  \\n● Enhanced quarterly profits by 18% via strategic selection and placement of high -demand seasonal products with LSTM.  \\n● Increased business revenue by $150K annually by develop ing decision tree models to predict  customer churn for \\nsubscription plans.'),\n",
       " Document(metadata={'source': 'C:\\\\Users\\\\Atharva J\\\\Desktop\\\\UMN\\\\FullTimeJobApplications\\\\ResumeFeedbackChanges-Sridhar\\\\AtharvaJResume-14-DS-V2.pdf', 'page': 0}, page_content='subscription plans.  \\n● Optimized ML pipeline by integrating ML explainability, resulting in a 20% reduction in model tuning time and enhanced  \\nprediction interpretability.  \\nClient: Lululemon – Leading  athleisure  designer & manufacturer.  (Time series Forecasting, MySQL , Tableau , AWS services ) \\n● Implemented demand forecasting engine using Python statistical models, decreasing inventory re-stock delay by \\n~70% (7 days  to 2 days).  \\n● Implemented a deep learning model for employee review classification, resulting in $70.5K savings in policy management.  \\n● Generated $300K in quarterly revenue by increa sing visibility of real -time product performance by 250%  through the \\nimplementation of Tableau dashboards.'),\n",
       " Document(metadata={'source': 'C:\\\\Users\\\\Atharva J\\\\Desktop\\\\UMN\\\\FullTimeJobApplications\\\\ResumeFeedbackChanges-Sridhar\\\\AtharvaJResume-14-DS-V2.pdf', 'page': 0}, page_content='implementation of Tableau dashboards.  \\nClient : James Hall Co. - Leading wholesale retailer  of SPAR in North England  (SQL, Data Pipelines , Automation )                      \\n● Implemented failure resolution mechanism using regression analysis, reducing production errors by 35% and saving the \\ncompany $24K annually on on -call support costs . \\n● Increased efficiency by 70% through the implementation of Python scripts to automate large retail report transfers \\nvia SFTP . \\nClient: CleverTap – US customer lifecycle management & marketing services company  (GCP BigQuery , scikit -learn , Spark ) \\n● Achieved $400K in annual savings by automating customer journey analysis using BigQuery and ETL pipelines, processing \\n14M rows monthly.  \\nEDUCATION'),\n",
       " Document(metadata={'source': 'C:\\\\Users\\\\Atharva J\\\\Desktop\\\\UMN\\\\FullTimeJobApplications\\\\ResumeFeedbackChanges-Sridhar\\\\AtharvaJResume-14-DS-V2.pdf', 'page': 0}, page_content='14M rows monthly.  \\nEDUCATION  \\nCARLSON SCHOOL OF MANAGEMENT, UNIVERSITY OF MINNESOTA, MN  \\nMaster of Science  in Business Analytics                                  May 2024  \\nUNIVERSITY OF PUNE , INDIA  \\nBachelor  of Engineering  – Computer  Engineering                                                                                                      May 2020  \\n \\nSKILLS  \\n● Certifications : AWS  Certified  Machine  Learning  Specialty  (Mar 2022 – March 2025).  \\n● Languages : Python (e.g. Pandas, NumPy, scikit -learn, TensorFlow, Keras, transformers),  SQL, R (e.g. dplyr, matchIt).  \\n● Data Engineering & Machine Learning : MySQL, AWS Redshift, GCP, ETL pipelines, deep learning , Jupyter .'),\n",
       " Document(metadata={'source': 'C:\\\\Users\\\\Atharva J\\\\Desktop\\\\UMN\\\\FullTimeJobApplications\\\\ResumeFeedbackChanges-Sridhar\\\\AtharvaJResume-14-DS-V2.pdf', 'page': 0}, page_content='● Big Data, Data Visualization & Misc. technologies: Spark, Tableau,  PowerBI , JIRA, Splunk, Airflow, MS Office.  \\n● Techniques : Time Series  Forecasting , Natural Language Processing, Data Visualization, Predictive Modeling,  \\nExploratory Data Analysis, Statistical Analysis using R , A/B testing , Data Transformation, Cloud Services .'),\n",
       " Document(metadata={'source': 'C:\\\\Users\\\\Atharva J\\\\Desktop\\\\UMN\\\\FullTimeJobApplications\\\\ResumeFeedbackChanges-Sridhar\\\\AtharvaJResume-14-DS-V3.pdf', 'page': 0}, page_content='ATHARVA  JOSHI  \\n(763)-202-0720  ⚫  joshi461@umn.edu  ⚫ https://www.linkedin.com/in/attharvaj3147    \\n  \\nSUMMARY  \\nDynamic data scientist with 3.5 years of  experience in predictive modeling, machine learning, cross -functional collaboration, \\nand data-driven decision -making  in retail  industr y, achieving significant business impact through innovative analytics solutions.  \\n \\nEXPERIENCE  \\nCARLSON ANALYTICS LAB                  Minneapolis , MN \\nAnalytics Lead – Experiential Learning                                   Jan 2024 - May 2024  \\nImpact Analysis for Insiders Loyalty Program at a major Minneapolis mall. ( SQL, EDA, Collaboration, PowerBI)  \\n● Directed comprehensive analytics initiatives, collaborating  with diverse teams to align loyalty program objectives'),\n",
       " Document(metadata={'source': 'C:\\\\Users\\\\Atharva J\\\\Desktop\\\\UMN\\\\FullTimeJobApplications\\\\ResumeFeedbackChanges-Sridhar\\\\AtharvaJResume-14-DS-V3.pdf', 'page': 0}, page_content='with data -driven strategies.  \\n● Led a team to segment 13,000+ insiders  in different clusters using K -Means clustering, improving customer \\ntargeting by 30%.  \\n● Boosted loyalty program engagement by 23% through tailored promotions  to insider  preferences  using association \\nrule mining  on shopping pattern data . \\nData Science  Consultant                                     Jul 2023 - Dec 2023  \\n● Saved ~$ 4M of a Minnesota school by optimizing resource allocation strategies using predictive regression model  to \\nevaluate the impact of the Early College Program on post -secondary success  of students . \\nALTIMETRIK  INDIA                Bangalore , India            \\nAssociate Data  Scientist                                  Nov 2020 - May 202 3'),\n",
       " Document(metadata={'source': 'C:\\\\Users\\\\Atharva J\\\\Desktop\\\\UMN\\\\FullTimeJobApplications\\\\ResumeFeedbackChanges-Sridhar\\\\AtharvaJResume-14-DS-V3.pdf', 'page': 0}, page_content='Client : Uniqlo  - Leading  Japanese sportswear & apparel company  (PyCaret, RNNs, ML explainability , NLP, Deep Learning ) \\n● Achieved $150K in cost savings by optimizing SKU selection  on seasonal product demand leveraging ML \\npipelines.  \\n● Enhanced quarterly profits by 18% through strategi zed selection and placement  of high -demand seasonal products \\nforecasted using  LSTM.  \\n● Optimized ML pipeline by integrating ML explainability, resulting in a 20% reduction in model tuning time and enhanced \\nprediction interpretability . \\nClient: Lululemon – Leading  athleisure  designer & manufacturer.  (Time series Forecasting, MySQL , Tableau , AWS services ) \\n● Implemented demand forecasting engine using Python statistical models, decreasing inventory re-stock delay  by'),\n",
       " Document(metadata={'source': 'C:\\\\Users\\\\Atharva J\\\\Desktop\\\\UMN\\\\FullTimeJobApplications\\\\ResumeFeedbackChanges-Sridhar\\\\AtharvaJResume-14-DS-V3.pdf', 'page': 0}, page_content='~70% (7 days  to 2 days).  \\n● Leverag ed BERT  model for employee review classification, resulting in $70.5K savings in policy management . \\n● Generated $300K in quarterly revenue by increa sing visibility of real-time product performance  by 250%  through the \\nimplementation of Tableau dashboards.  \\nClient : James Hall Co. - Leading wholesale retailer  of SPAR in North England  (SQL, Data Pipelines , Automation )                      \\n● Implemented failure resolution mechanism using regression analysis, reducing production errors  by 35% and saving  \\nthe company $24K annually on on-call support costs . \\n● Increased efficiency by 70% through the implementation of Python scripts to automate large retail report \\ntransfers  via SFTP .'),\n",
       " Document(metadata={'source': 'C:\\\\Users\\\\Atharva J\\\\Desktop\\\\UMN\\\\FullTimeJobApplications\\\\ResumeFeedbackChanges-Sridhar\\\\AtharvaJResume-14-DS-V3.pdf', 'page': 0}, page_content='transfers  via SFTP . \\nClient: CleverTap – US customer lifecycle management & marketing services company  (GCP BigQuery , scikit -learn , Spark ) \\n● Increased business revenue by $150K annually by developing decision tree models to predict customer churn for \\nsubscription plans . \\n● Achieved $400K in annual savings by automating customer journey analysis  using BigQuery and ETL pipelines, \\nprocessing 14M rows monthly.  \\nEDUCATION  \\nCARLSON SCHOOL OF MANAGEMENT, UNIVERSITY OF MINNESOTA, MN  \\nMaster of Science  in Business Analytics                                  May 2024  \\nUNIVERSITY OF PUNE , INDIA  \\nBachelor  of Engineering  – Computer  Engineering                                                                                                      May 2020  \\n \\nSKILLS'),\n",
       " Document(metadata={'source': 'C:\\\\Users\\\\Atharva J\\\\Desktop\\\\UMN\\\\FullTimeJobApplications\\\\ResumeFeedbackChanges-Sridhar\\\\AtharvaJResume-14-DS-V3.pdf', 'page': 0}, page_content='SKILLS  \\n● Certifications : AWS  Certified  Machine  Learning  Specialty  (Mar 2022 – March 2025).  \\n● Languages : Python (e.g. Pandas, NumPy, scikit -learn, TensorFlow, Keras, transformers),  SQL, R (e.g. dplyr, matchIt).  \\n● Data Engineering & Machine Learning : MySQL, AWS Redshift, GCP, ETL pipelines, deep learning , Jupyter .  \\n● Big Data, Data Visualization & Misc. technologies: Spark, Tableau,  PowerBI , JIRA, Splunk, Airflow, MS Office.  \\n● Techniques : Time Series  Forecasting , Natural Language Processing, Data Visualization, Predictive Modeling,  \\nExploratory Data Analysis, Statistical Analysis using R , A/B testing , Data Transformation, Cloud Services .'),\n",
       " Document(metadata={'source': 'C:\\\\Users\\\\Atharva J\\\\Desktop\\\\UMN\\\\FullTimeJobApplications\\\\ResumeFeedbackChanges-Sridhar\\\\AtharvaJResume-14-DS-V4.pdf', 'page': 0}, page_content='ATHARVA  JOSHI  \\n(763)-202-0720  ⚫ Email  ⚫ LinkedIn  ⚫ GitHub  ⚫ Medium    \\n  \\nSUMMARY  \\nResults -driven data scientist with 3.5 years in retail, specializing in predictive modeling, machine learning, and strategic \\ncollaboration. Proven success in delivering analytics solutions that fuel business growth and informed decision -making.  \\n \\nEXPERIENCE  \\nCARLSON ANALYTICS LAB                  Minneapolis , MN \\nAnalytics Lead                                    Jul 2023 - May 2024  \\nImpact Analysis for Insiders Loyalty Program at a major Minneapolis mall. ( Python, SQL, PowerBI , JIRA ) \\n● Steered  and coordinated analytics initiatives, working closely with cross -functional  teams to align loyalty program \\ngoals with data -driven strategies.'),\n",
       " Document(metadata={'source': 'C:\\\\Users\\\\Atharva J\\\\Desktop\\\\UMN\\\\FullTimeJobApplications\\\\ResumeFeedbackChanges-Sridhar\\\\AtharvaJResume-14-DS-V4.pdf', 'page': 0}, page_content='goals with data -driven strategies.  \\n● Led a team to segment 13,000+ insiders  in different clusters using K -Means clustering, improving customer \\ntargeting by 30%.  \\n● Boosted loyalty program engagement by 23% through tailored promotions  to insider  preferences  using association \\nrule mining  on shopping pattern data . \\nResource Allocation Optimization for a Minnesota school district (Python,  R, Tableau ) \\n● Saved ~$ 453K for a Minnesota school by leveraging experimentation , causal inference and regression techniques to \\noptimize resource allocation for the Early College Program.  \\nALTIMETRIK  INDIA                Bangalore , India            \\nAssociate Data  Scientist                                  Nov 2020 - May 202 3'),\n",
       " Document(metadata={'source': 'C:\\\\Users\\\\Atharva J\\\\Desktop\\\\UMN\\\\FullTimeJobApplications\\\\ResumeFeedbackChanges-Sridhar\\\\AtharvaJResume-14-DS-V4.pdf', 'page': 0}, page_content='Client : Uniqlo  - Leading  Japanese sportswear & apparel company  (PyCaret, RNN , ML explainability , NLP ) \\n● Achieved $150K in cost savings by optimizing SKU selection  on seasonal product demand leveraging machine \\nlearning  pipelines.  \\n● Enhanced quarterly profits by 18% through strategi zed selection and placement  of high -demand seasonal products \\nforecasted using  LSTM.  \\n● Optimized ML pipeline by integrating ML explainability, resulting in a 20% reduction in model tuning time and enhanced \\nprediction interpretability . \\nClient: Lululemon – Leading  athleisure  designer & manufacturer.  (Time series Forecasting, MySQL , Tableau , AWS services ) \\n● Implemented demand forecasting engine using Python statistical models, decreasing inventory re-stock delay  by'),\n",
       " Document(metadata={'source': 'C:\\\\Users\\\\Atharva J\\\\Desktop\\\\UMN\\\\FullTimeJobApplications\\\\ResumeFeedbackChanges-Sridhar\\\\AtharvaJResume-14-DS-V4.pdf', 'page': 0}, page_content='~70% (7 days  to 2 days).  \\n● Leverag ed BERT  model for employee review classification, resulting in $70.5K savings in policy management . \\n● Generated $300K in quarterly revenue by increa sing visibility of real-time product performance  by 250%  through the \\nimplementation of Tableau  dashboards.  \\nClient : James Hall Co. - Leading wholesale retailer  of SPAR in North England  (SQL, ETL Data Pipelines , Automation )                      \\n● Implemented failure resolution mechanism using regression analysis, reducing production errors  by 35% and saving  \\nthe company $24K annually on production  support costs . \\n● Increased efficiency by 70% through the implementation of Python scripts to automate large retail report \\ntransfers  via SFTP .'),\n",
       " Document(metadata={'source': 'C:\\\\Users\\\\Atharva J\\\\Desktop\\\\UMN\\\\FullTimeJobApplications\\\\ResumeFeedbackChanges-Sridhar\\\\AtharvaJResume-14-DS-V4.pdf', 'page': 0}, page_content='transfers  via SFTP . \\nClient: CleverTap – US customer lifecycle management & marketing services company  (BigQuery , CI/CD , Spark ) \\n● Increased business revenue by $150K annually by developing decision tree models to predict customer churn for \\nsubscription plans . \\n● Achieved $400K in annual savings by automating customer journey analysis  using BigQuery and ETL pipelines, \\nprocessing  14M rows monthly.  \\nEDUCATION  \\nCARLSON SCHOOL OF MANAGEMENT, UNIVERSITY OF MINNESOTA  \\nMaster of Science  in Business Analytics                                  May 2024  \\nUNIVERSITY OF PUNE , INDIA  \\nBachelor  of Engineering  – Computer  Engineering                                                                                                      May 2020  \\n \\nSKILLS'),\n",
       " Document(metadata={'source': 'C:\\\\Users\\\\Atharva J\\\\Desktop\\\\UMN\\\\FullTimeJobApplications\\\\ResumeFeedbackChanges-Sridhar\\\\AtharvaJResume-14-DS-V4.pdf', 'page': 0}, page_content='SKILLS  \\n● Certifications : AWS  Certified  Machine  Learning  Specialty  (Mar 2022 – March 2025).  \\n● Languages : Python ( Pandas, NumPy, scikit -learn, TensorFlow, Keras, transformers),  SQL, R (dplyr, matchIt).  \\n● Data Engineering & Machine Learning : MySQL, AWS Redshift, GCP, ETL pipelines, Deep Learning , Jupyter .  \\n● Big Data, Data Visualization & Misc. technologies: PySpark, Tableau,  PowerBI , JIRA, Splunk, Airflow, MS Office.  \\n● Techniques : Time Series  Forecasting , Natural Language Processing, Data Visualization, Predictive \\nModeling,  Exploratory Data Analysis, Statistical Analysis , A/B testing , Data Transformation, Cloud Services .')]"
      ]
     },
     "execution_count": 10,
     "metadata": {},
     "output_type": "execute_result"
    }
   ],
   "source": [
    "chunk_data(documents)"
   ]
  },
  {
   "cell_type": "markdown",
   "id": "77126049-ad92-4dc1-a75d-85ee39a1a9b5",
   "metadata": {},
   "source": [
    "#### Generating OpenAI embeddings for previously created chunks"
   ]
  },
  {
   "cell_type": "code",
   "execution_count": 11,
   "id": "d11f512b-6e79-41c5-8930-12fea139722f",
   "metadata": {},
   "outputs": [
    {
     "data": {
      "text/plain": [
       "OpenAIEmbeddings(client=<openai.resources.embeddings.Embeddings object at 0x0000021E2592B530>, async_client=<openai.resources.embeddings.AsyncEmbeddings object at 0x0000021E2592B890>, model='text-embedding-ada-002', dimensions=None, deployment='text-embedding-ada-002', openai_api_version='', openai_api_base=None, openai_api_type='', openai_proxy='', embedding_ctx_length=8191, openai_api_key=SecretStr('**********'), openai_organization=None, allowed_special=None, disallowed_special=None, chunk_size=1000, max_retries=2, request_timeout=None, headers=None, tiktoken_enabled=True, tiktoken_model_name=None, show_progress_bar=False, model_kwargs={}, skip_empty=False, default_headers=None, default_query=None, retry_min_seconds=4, retry_max_seconds=20, http_client=None, http_async_client=None, check_embedding_ctx_length=True)"
      ]
     },
     "execution_count": 11,
     "metadata": {},
     "output_type": "execute_result"
    }
   ],
   "source": [
    "embeddings = OpenAIEmbeddings(api_key=os.environ['OPENAI_API_KEY'])\n",
    "embeddings"
   ]
  },
  {
   "cell_type": "code",
   "execution_count": 12,
   "id": "f1dd2149-c7e0-4063-a87b-018df749d5e0",
   "metadata": {},
   "outputs": [
    {
     "data": {
      "text/plain": [
       "1536"
      ]
     },
     "execution_count": 12,
     "metadata": {},
     "output_type": "execute_result"
    }
   ],
   "source": [
    "vectors = embeddings.embed_query(\"How are you?\")\n",
    "len(vectors)"
   ]
  },
  {
   "cell_type": "markdown",
   "id": "2c0900a9-8f0a-40b7-8010-56ce5c6b7585",
   "metadata": {},
   "source": [
    "#### Create a Vector searchDB using Pinecone"
   ]
  },
  {
   "cell_type": "code",
   "execution_count": 13,
   "id": "a79086bd-5c42-431d-947e-aa34a7c02d64",
   "metadata": {},
   "outputs": [],
   "source": [
    "# Initialize the Pinecone environment with your API key\n",
    "os.environ['PINECONE_API_KEY'] = '170f5485-113f-4f69-99ab-ce60f0c9f5c7'"
   ]
  },
  {
   "cell_type": "code",
   "execution_count": 14,
   "id": "8d9fe020-8854-44bf-ad0e-8c697d503e46",
   "metadata": {},
   "outputs": [],
   "source": [
    "vectorstore_from_docs = PineconeVectorStore.from_documents(\n",
    "        documents,\n",
    "        index_name=\"llmlangchainproject1\",\n",
    "        embedding=embeddings\n",
    "    )"
   ]
  },
  {
   "cell_type": "code",
   "execution_count": 15,
   "id": "0bc0127d-ff15-438e-b295-112d7f78d9c1",
   "metadata": {},
   "outputs": [
    {
     "name": "stderr",
     "output_type": "stream",
     "text": [
      "C:\\Users\\Atharva J\\AppData\\Local\\Temp\\ipykernel_10348\\3919467311.py:2: LangChainDeprecationWarning: The class `ChatOpenAI` was deprecated in LangChain 0.0.10 and will be removed in 1.0. An updated version of the class exists in the langchain-openai package and should be used instead. To use it run `pip install -U langchain-openai` and import as `from langchain_openai import ChatOpenAI`.\n",
      "  openai_model = ChatOpenAI(model_name=\"gpt-3.5-turbo\", temperature=0.4)\n",
      "C:\\Users\\Atharva J\\AppData\\Local\\Temp\\ipykernel_10348\\3919467311.py:5: LangChainDeprecationWarning: This class is deprecated. See the following migration guides for replacements based on `chain_type`:\n",
      "stuff: https://python.langchain.com/v0.2/docs/versions/migrating_chains/stuff_docs_chain\n",
      "map_reduce: https://python.langchain.com/v0.2/docs/versions/migrating_chains/map_reduce_chain\n",
      "refine: https://python.langchain.com/v0.2/docs/versions/migrating_chains/refine_chain\n",
      "map_rerank: https://python.langchain.com/v0.2/docs/versions/migrating_chains/map_rerank_docs_chain\n",
      "\n",
      "See also guides on retrieval and question-answering here: https://python.langchain.com/v0.2/docs/how_to/#qa-with-rag\n",
      "  chain = load_qa_chain(openai_model, chain_type=\"stuff\")\n"
     ]
    }
   ],
   "source": [
    "# Initialize the OpenAI model with the correct API\n",
    "openai_model = ChatOpenAI(model_name=\"gpt-3.5-turbo\", temperature=0.4)\n",
    "\n",
    "# Load the QA chain with the updated API\n",
    "chain = load_qa_chain(openai_model, chain_type=\"stuff\")\n",
    "\n",
    "# Function to retrieve matching documents from VectorDB\n",
    "def retrieve_query(query, k=2):\n",
    "    matching_results = vectorstore_from_docs.similarity_search(query, k=k)\n",
    "    return matching_results\n",
    "\n",
    "# Function to retrieve answers using the QA chain\n",
    "def retrieve_answers(query):\n",
    "    doc_search = retrieve_query(query)\n",
    "    # print(type(doc_search))\n",
    "    \n",
    "    response = chain.invoke({\"input_documents\": doc_search, \"question\": query})\n",
    "    return response"
   ]
  },
  {
   "cell_type": "code",
   "execution_count": 16,
   "id": "ac3dfc94-ced3-4d7e-b60b-0cd2433c3009",
   "metadata": {},
   "outputs": [
    {
     "name": "stdout",
     "output_type": "stream",
     "text": [
      "Yes, based on the detailed work experience and skills listed, Atharva Joshi appears to be an expert in machine learning. He has experience implementing various machine learning techniques, such as clustering, deep learning, predictive modeling, and time series forecasting, using tools like Python, TensorFlow, and AWS services. Additionally, his certifications, such as being an AWS Certified Machine Learning Specialty, further support his expertise in machine learning.\n"
     ]
    }
   ],
   "source": [
    "# Example usage\n",
    "question1 = \"Is this person an expert in Machine Learning?\"\n",
    "answer1 = retrieve_answers(question1)\n",
    "print(answer1['output_text'])"
   ]
  },
  {
   "cell_type": "code",
   "execution_count": 17,
   "id": "458018f0-b86f-4e14-a964-9e4aedaff204",
   "metadata": {},
   "outputs": [
    {
     "name": "stdout",
     "output_type": "stream",
     "text": [
      "Based on Atharva's resume, he has experience with deep learning models, such as LSTM models with attention mechanisms in TensorFlow. Additionally, he has implemented a deep learning model for employee review classification. These experiences suggest that Atharva has the skills and background to work on Generative AI and Deep Learning use cases.\n"
     ]
    }
   ],
   "source": [
    "question2 = \"Based on his resume, do you think Atharva will be able to work on Generative AI and Deep learning use cases?\"\n",
    "answer2 = retrieve_answers(question2)\n",
    "print(answer2['output_text'])"
   ]
  },
  {
   "cell_type": "code",
   "execution_count": 18,
   "id": "d1370ce5-8ab9-4edf-a1ee-27e9b3a94a67",
   "metadata": {},
   "outputs": [
    {
     "name": "stdout",
     "output_type": "stream",
     "text": [
      "Based on the information provided, Atharva Joshi has a strong background in data engineering, analytics, and related technologies. However, there is no specific mention of experience or skills related to full stack web development in the provided context. Therefore, it's unclear if Atharva would be a good professional full stack web developer.\n"
     ]
    }
   ],
   "source": [
    "question3 = \"Can Atharva be a good professional full stack web developer?\"\n",
    "answer3 = retrieve_answers(question3)\n",
    "print(answer3['output_text'])"
   ]
  },
  {
   "cell_type": "code",
   "execution_count": 19,
   "id": "2105555e-7a73-4bdc-b9eb-0ebe91728a17",
   "metadata": {},
   "outputs": [
    {
     "name": "stdout",
     "output_type": "stream",
     "text": [
      "Based on the provided experience, skills, and education, I would rate this profile a 9 out of 10 for a data scientist position. The candidate has a strong background in predictive modeling, machine learning, and data analytics, with relevant experience in retail and various data science techniques. Additionally, the certifications, technical skills, and successful project outcomes demonstrate a high level of expertise in the field.\n"
     ]
    }
   ],
   "source": [
    "question4 = \"What do you think of this profile for a data scientist position? Rate the relevance of this profile out of 10 for \\\n",
    "            a data scientist position out of 10 based on general job description of a data science role.\"\n",
    "answer4 = retrieve_answers(question4)\n",
    "print(answer4['output_text'])"
   ]
  },
  {
   "cell_type": "code",
   "execution_count": null,
   "id": "08d479f7-1e7a-492d-8cd2-4f460485c78d",
   "metadata": {},
   "outputs": [],
   "source": []
  }
 ],
 "metadata": {
  "kernelspec": {
   "display_name": "Python 3",
   "language": "python",
   "name": "python3"
  },
  "language_info": {
   "codemirror_mode": {
    "name": "ipython",
    "version": 3
   },
   "file_extension": ".py",
   "mimetype": "text/x-python",
   "name": "python",
   "nbconvert_exporter": "python",
   "pygments_lexer": "ipython3",
   "version": "3.12.4"
  }
 },
 "nbformat": 4,
 "nbformat_minor": 5
}
